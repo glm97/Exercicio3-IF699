{
  "nbformat": 4,
  "nbformat_minor": 0,
  "metadata": {
    "colab": {
      "name": "exercicio-03",
      "provenance": [],
      "collapsed_sections": [
        "lDOtO_f3_QUj"
      ],
      "toc_visible": true
    },
    "kernelspec": {
      "name": "python3",
      "display_name": "Python 3"
    },
    "language_info": {
      "name": "python"
    }
  },
  "cells": [
    {
      "cell_type": "markdown",
      "metadata": {
        "id": "dDMR14z_2V-e"
      },
      "source": [
        "## Imports"
      ]
    },
    {
      "cell_type": "code",
      "metadata": {
        "id": "t--ou11Or2ML"
      },
      "source": [
        "import numpy as np\n",
        "import pandas as pd\n",
        "import random\n",
        "from sklearn.metrics import f1_score\n",
        "from sklearn.metrics import confusion_matrix"
      ],
      "execution_count": 63,
      "outputs": []
    },
    {
      "cell_type": "code",
      "metadata": {
        "colab": {
          "base_uri": "https://localhost:8080/"
        },
        "id": "zoawVi8YFp_X",
        "outputId": "6fb13ff1-6968-4796-8b9c-a13146bfffd1"
      },
      "source": [
        "# importar base 1\n",
        "df_base1 = pd.read_csv('/content/base01.csv')\n",
        "\n",
        "# transformando label em inteiros\n",
        "df_base1['21'] = df_base1['21'].astype('category')\n",
        "df_base1['21'] = df_base1['21'].cat.codes\n",
        "\n",
        "# separar classes\n",
        "class0_df = df_base1[df_base1['21'] == 0]\n",
        "class1_df = df_base1[df_base1['21'] == 1]\n",
        "\n",
        "print('Classe 0: ', class0_df.shape, '\\nClasse 1: ', class1_df.shape)"
      ],
      "execution_count": 11,
      "outputs": [
        {
          "output_type": "stream",
          "text": [
            "Classe 0:  (415, 23) \n",
            "Classe 1:  (107, 23)\n"
          ],
          "name": "stdout"
        }
      ]
    },
    {
      "cell_type": "code",
      "metadata": {
        "colab": {
          "base_uri": "https://localhost:8080/"
        },
        "id": "sYUcC1wnFuKi",
        "outputId": "919ede86-04df-4860-9c9b-1728adc895bd"
      },
      "source": [
        "# importar base 2\n",
        "df_base2 = pd.read_csv('/content/base02.csv')\n",
        "\n",
        "# transformande label em inteiros\n",
        "df_base2['21'] = df_base2['21'].astype('category')\n",
        "df_base2['21'] = df_base2['21'].cat.codes\n",
        "\n",
        "# separar classes\n",
        "class0_df2 = df_base2[df_base2['21'] == 0]\n",
        "class1_df2 = df_base2[df_base2['21'] == 1]\n",
        "\n",
        "print('Classe 0: ', class0_df2.shape, '\\nClasse 1: ', class1_df2.shape)"
      ],
      "execution_count": 12,
      "outputs": [
        {
          "output_type": "stream",
          "text": [
            "Classe 0:  (1783, 23) \n",
            "Classe 1:  (326, 23)\n"
          ],
          "name": "stdout"
        }
      ]
    },
    {
      "cell_type": "markdown",
      "metadata": {
        "id": "lDOtO_f3_QUj"
      },
      "source": [
        "## Algoritmo"
      ]
    },
    {
      "cell_type": "code",
      "metadata": {
        "id": "VrYhNon9_S6L"
      },
      "source": [
        "def train(array_input):\n",
        "  # selecionar um pivô aleatorio\n",
        "  n = random.randrange(0, len(array_input)-1)\n",
        "  pivo = array_input[n]\n",
        "  # cria fila com o pivo\n",
        "  q = []\n",
        "  q.append(pivo)\n",
        "  # lista com pontos da borda\n",
        "  b = []\n",
        "  # rodar busca em largura usando a distância euclidiana como limiar\n",
        "  borda = busca_largura(array_input, q, b)\n",
        "  # retornar aproximação da borda\n",
        "  return borda, pivo  "
      ],
      "execution_count": 38,
      "outputs": []
    },
    {
      "cell_type": "code",
      "metadata": {
        "id": "cFfyCdyQ9VFC"
      },
      "source": [
        "def busca_largura(array_input, q, b):\n",
        "  # remove primeiro elemento da fila = pivo\n",
        "  pivo = q[0]\n",
        "  q.pop(0)\n",
        "  \n",
        "  # cria array temporario sem o pivo\n",
        "  array_temp = np.copy(array_input)\n",
        "  for n in range(len(array_input)):\n",
        "    if (array_input[n]==pivo).all():\n",
        "      array_temp = np.delete(array_temp, n, 0)\n",
        "  # copia array temporario\n",
        "  array_aux = np.copy(array_temp)\n",
        "  #conta vizinhos\n",
        "  vizinhos = 0\n",
        "  \n",
        "  # para cada item em array_temp calcular distancia euclidiana para pivo\n",
        "  for i in range(len(array_temp)):\n",
        "    de = np.linalg.norm(pivo-array_temp[i])\n",
        "    # se a distancia <= 5 coloca na fila\n",
        "    if de <= 5:\n",
        "      vizinhos = vizinhos + 1\n",
        "      q.append(array_temp[i])\n",
        "      array_aux = np.delete(array_aux, i, 0)\n",
        "\n",
        "  # se o pivo nao possui vizinho entao ele esta na borda\n",
        "  if vizinhos == 0:\n",
        "    b.append(pivo)\n",
        "\n",
        "  #se nao ha mais elementos na fila retorna\n",
        "  if len(q) == 0:\n",
        "    return b\n",
        "  else:\n",
        "    # do contrario chama novamente a funcao com fila e array com pontos restantes\n",
        "    busca_largura(array_aux, q, b)"
      ],
      "execution_count": 58,
      "outputs": []
    },
    {
      "cell_type": "code",
      "metadata": {
        "id": "gUZ3Q_Vc9ZC5"
      },
      "source": [
        "def predict(pivo, borda, array_teste):\n",
        "  \n",
        "  labels = []\n",
        "\n",
        "  for i in array_teste:\n",
        "    # para cada item no array de teste encontrar item da borda mais proximo\n",
        "    valor_inicial = np.linalg.norm(i-borda[0])\n",
        "    posicao = 0\n",
        "\n",
        "    for k in range(1,len(borda)):\n",
        "      valor_atual = np.linalg.norm(i-borda[k])\n",
        "      if valor_atual < valor_inicial:\n",
        "        valor_inicial = valor_atual\n",
        "        posicao = k\n",
        "    \n",
        "    # calcula distancia euclidiana do pivo ao novo ponto\n",
        "    pivo_a_np = np.linalg.norm(pivo-i)\n",
        "\n",
        "    # calcula distancia euclidiana do pivo ao ponto da borda\n",
        "    pivo_a_borda = np.linalg.norm(pivo-borda[posicao])\n",
        "\n",
        "    # se a distancia do pivo para o novo ponto for menor que a distancia do\n",
        "    # pivo para a borda, entao o novo ponto deve ser negativo. caso contrario\n",
        "    # o novo ponto deve ser positivo.\n",
        "    if pivo_a_np < pivo_a_borda:\n",
        "      np_label = 0\n",
        "    else:\n",
        "      np_label = 1\n",
        "\n",
        "    labels.append(np_label)\n",
        "\n",
        "  # retornar lista com labels\n",
        "  return labels"
      ],
      "execution_count": 60,
      "outputs": []
    },
    {
      "cell_type": "markdown",
      "metadata": {
        "id": "bhjVMtBV2Z0L"
      },
      "source": [
        "## 30% dos dados"
      ]
    },
    {
      "cell_type": "code",
      "metadata": {
        "id": "b_UuTpvg2k1M",
        "colab": {
          "base_uri": "https://localhost:8080/"
        },
        "outputId": "5bcc1f8d-3634-4d48-8359-44b470ce8608"
      },
      "source": [
        "# separar labels\n",
        "X0 = class0_df.iloc[:, :-1].values\n",
        "y0 = class0_df.iloc[:, -1].values\n",
        "\n",
        "# selecionar 30% dos dados da base 1 (156 instancias) para treino\n",
        "X_train = X[:156]\n",
        "\n",
        "# treinar sobre esses dados\n",
        "b, p = train(X_train)\n",
        "\n",
        "# juntar restante das instancias da classe 0 com as instancias da classe 1\n",
        "X1 = class1_df.iloc[:, :-1].values\n",
        "y1 = class1_df.iloc[:, -1].values\n",
        "\n",
        "X0_test = X0[156:]\n",
        "y0_test = y0[156:]\n",
        "X_test = np.concatenate((X0_test, X1), axis=0)\n",
        "y_test = np.concatenate((y0_test, y1), axis=0)\n",
        "\n",
        "# testar sobre o resto da base\n",
        "y_pred = predict(p, b, X_test)\n",
        "\n",
        "# calcular f-score, true positive, true negative\n",
        "f_score = f1_score(y_test, y_pred, average='weighted')\n",
        "print('F1-measure: ', f_score)\n",
        "conf_matrix = confusion_matrix(y_test, y_pred)\n",
        "true_pos = conf_matrix[1][1]\n",
        "false_pos = conf_matrix[0][1]\n",
        "print('True Positives: ', true_pos)\n",
        "print('False Positives: ', false_pos)"
      ],
      "execution_count": 65,
      "outputs": [
        {
          "output_type": "stream",
          "text": [
            "F1-measure:  0.1322681639113206\n",
            "True Positives:  107\n",
            "False Positives:  259\n"
          ],
          "name": "stdout"
        }
      ]
    },
    {
      "cell_type": "code",
      "metadata": {
        "colab": {
          "base_uri": "https://localhost:8080/"
        },
        "id": "eyR2uYTBGMLx",
        "outputId": "e6405976-3993-4f61-98e6-bdfe93c6228d"
      },
      "source": [
        "# separar labels\n",
        "X0 = class0_df2.iloc[:, :-1].values\n",
        "y0 = class0_df2.iloc[:, -1].values\n",
        "\n",
        "# selecionar 30% dos dados da base 1 (632 instancias) para treino\n",
        "X_train = X[:632]\n",
        "\n",
        "# treinar sobre esses dados\n",
        "b, p = train(X_train)\n",
        "\n",
        "# juntar restante das instancias da classe 0 com as instancias da classe 1\n",
        "X1 = class1_df2.iloc[:, :-1].values\n",
        "y1 = class1_df2.iloc[:, -1].values\n",
        "\n",
        "X0_test = X0[632:]\n",
        "y0_test = y0[632:]\n",
        "X_test = np.concatenate((X0_test, X1), axis=0)\n",
        "y_test = np.concatenate((y0_test, y1), axis=0)\n",
        "\n",
        "# testar sobre o resto da base\n",
        "y_pred = predict(p, b, X_test)\n",
        "\n",
        "# calcular f-score, true positive, true negative\n",
        "f_score = f1_score(y_test, y_pred, average='weighted')\n",
        "print('F1-measure: ', f_score)\n",
        "conf_matrix = confusion_matrix(y_test, y_pred)\n",
        "true_pos = conf_matrix[1][1]\n",
        "false_pos = conf_matrix[0][1]\n",
        "print('True Positives: ', true_pos)\n",
        "print('False Positives: ', false_pos)"
      ],
      "execution_count": 73,
      "outputs": [
        {
          "output_type": "stream",
          "text": [
            "F1-measure:  0.079815818892082\n",
            "True Positives:  326\n",
            "False Positives:  1151\n"
          ],
          "name": "stdout"
        }
      ]
    },
    {
      "cell_type": "markdown",
      "metadata": {
        "id": "HrkJyQku2luH"
      },
      "source": [
        "## 40% dos dados"
      ]
    },
    {
      "cell_type": "code",
      "metadata": {
        "id": "bhZANVy_2nWd",
        "colab": {
          "base_uri": "https://localhost:8080/"
        },
        "outputId": "e4ddbe28-7725-4489-cae5-b892210e1ec3"
      },
      "source": [
        "# separar labels\n",
        "X0 = class0_df.iloc[:, :-1].values\n",
        "y0 = class0_df.iloc[:, -1].values\n",
        "\n",
        "# selecionar 40% dos dados da base 1 (208 instancias) para treino\n",
        "X_train = X[:208]\n",
        "\n",
        "# treinar sobre esses dados\n",
        "b, p = train(X_train)\n",
        "\n",
        "# juntar restante das instancias da classe 0 com as instancias da classe 1\n",
        "X1 = class1_df.iloc[:, :-1].values\n",
        "y1 = class1_df.iloc[:, -1].values\n",
        "\n",
        "X0_test = X0[208:]\n",
        "y0_test = y0[208:]\n",
        "X_test = np.concatenate((X0_test, X1), axis=0)\n",
        "y_test = np.concatenate((y0_test, y1), axis=0)\n",
        "\n",
        "# testar sobre o resto da base\n",
        "y_pred = predict(p, b, X_test)\n",
        "\n",
        "# calcular f-score, true positive, true negative\n",
        "f_score = f1_score(y_test, y_pred, average='weighted')\n",
        "print('F1-measure: ', f_score)\n",
        "conf_matrix = confusion_matrix(y_test, y_pred)\n",
        "true_pos = conf_matrix[1][1]\n",
        "false_pos = conf_matrix[0][1]\n",
        "print('True Positives: ', true_pos)\n",
        "print('False Positives: ', false_pos)"
      ],
      "execution_count": 67,
      "outputs": [
        {
          "output_type": "stream",
          "text": [
            "F1-measure:  0.17321512322798308\n",
            "True Positives:  107\n",
            "False Positives:  207\n"
          ],
          "name": "stdout"
        }
      ]
    },
    {
      "cell_type": "code",
      "metadata": {
        "colab": {
          "base_uri": "https://localhost:8080/"
        },
        "id": "zLl64ZzfGPGM",
        "outputId": "1337bf9d-c2f0-4382-8ecd-ea486c48e3e1"
      },
      "source": [
        "# separar labels\n",
        "X0 = class0_df2.iloc[:, :-1].values\n",
        "y0 = class0_df2.iloc[:, -1].values\n",
        "\n",
        "# selecionar 40% dos dados da base 1 (843 instancias) para treino\n",
        "X_train = X[:843]\n",
        "\n",
        "# treinar sobre esses dados\n",
        "b, p = train(X_train)\n",
        "\n",
        "# juntar restante das instancias da classe 0 com as instancias da classe 1\n",
        "X1 = class1_df2.iloc[:, :-1].values\n",
        "y1 = class1_df2.iloc[:, -1].values\n",
        "\n",
        "X0_test = X0[843:]\n",
        "y0_test = y0[843:]\n",
        "X_test = np.concatenate((X0_test, X1), axis=0)\n",
        "y_test = np.concatenate((y0_test, y1), axis=0)\n",
        "\n",
        "# testar sobre o resto da base\n",
        "y_pred = predict(p, b, X_test)\n",
        "\n",
        "# calcular f-score, true positive, true negative\n",
        "f_score = f1_score(y_test, y_pred, average='weighted')\n",
        "print('F1-measure: ', f_score)\n",
        "conf_matrix = confusion_matrix(y_test, y_pred)\n",
        "true_pos = conf_matrix[1][1]\n",
        "false_pos = conf_matrix[0][1]\n",
        "print('True Positives: ', true_pos)\n",
        "print('False Positives: ', false_pos)"
      ],
      "execution_count": 70,
      "outputs": [
        {
          "output_type": "stream",
          "text": [
            "F1-measure:  0.10546016020068746\n",
            "True Positives:  326\n",
            "False Positives:  940\n"
          ],
          "name": "stdout"
        }
      ]
    },
    {
      "cell_type": "markdown",
      "metadata": {
        "id": "uVNofPON2o1X"
      },
      "source": [
        "## 50% dos dados"
      ]
    },
    {
      "cell_type": "code",
      "metadata": {
        "id": "KiD0paXb2qKZ",
        "colab": {
          "base_uri": "https://localhost:8080/"
        },
        "outputId": "d2ad2748-2903-4fc0-9d5a-6d8741cb8f94"
      },
      "source": [
        "# separar labels\n",
        "X0 = class0_df.iloc[:, :-1].values\n",
        "y0 = class0_df.iloc[:, -1].values\n",
        "\n",
        "# selecionar 50% dos dados da base 1 (261 instancias) para treino\n",
        "X_train = X[:261]\n",
        "\n",
        "# treinar sobre esses dados\n",
        "b, p = train(X_train)\n",
        "\n",
        "# juntar restante das instancias da classe 0 com as instancias da classe 1\n",
        "X1 = class1_df.iloc[:, :-1].values\n",
        "y1 = class1_df.iloc[:, -1].values\n",
        "\n",
        "X0_test = X0[261:]\n",
        "y0_test = y0[261:]\n",
        "X_test = np.concatenate((X0_test, X1), axis=0)\n",
        "y_test = np.concatenate((y0_test, y1), axis=0)\n",
        "\n",
        "# testar sobre o resto da base\n",
        "y_pred = predict(p, b, X_test)\n",
        "\n",
        "# calcular f-score, true positive, true negative\n",
        "f_score = f1_score(y_test, y_pred, average='weighted')\n",
        "print('F1-measure: ', f_score)\n",
        "conf_matrix = confusion_matrix(y_test, y_pred)\n",
        "true_pos = conf_matrix[1][1]\n",
        "false_pos = conf_matrix[0][1]\n",
        "print('True Positives: ', true_pos)\n",
        "print('False Positives: ', false_pos)"
      ],
      "execution_count": 68,
      "outputs": [
        {
          "output_type": "stream",
          "text": [
            "F1-measure:  0.2384016325170748\n",
            "True Positives:  107\n",
            "False Positives:  154\n"
          ],
          "name": "stdout"
        }
      ]
    },
    {
      "cell_type": "code",
      "metadata": {
        "colab": {
          "base_uri": "https://localhost:8080/"
        },
        "id": "N3FZN336GR0z",
        "outputId": "62ef2a33-9aed-4416-b9d1-2cac30c8e35a"
      },
      "source": [
        "# separar labels\n",
        "X0 = class0_df2.iloc[:, :-1].values\n",
        "y0 = class0_df2.iloc[:, -1].values\n",
        "\n",
        "# selecionar 50% dos dados da base 1 (1054 instancias) para treino\n",
        "X_train = X[:1054]\n",
        "\n",
        "# treinar sobre esses dados\n",
        "b, p = train(X_train)\n",
        "\n",
        "# juntar restante das instancias da classe 0 com as instancias da classe 1\n",
        "X1 = class1_df2.iloc[:, :-1].values\n",
        "y1 = class1_df2.iloc[:, -1].values\n",
        "\n",
        "X0_test = X0[1054:]\n",
        "y0_test = y0[1054:]\n",
        "X_test = np.concatenate((X0_test, X1), axis=0)\n",
        "y_test = np.concatenate((y0_test, y1), axis=0)\n",
        "\n",
        "# testar sobre o resto da base\n",
        "y_pred = predict(p, b, X_test)\n",
        "\n",
        "# calcular f-score, true positive, true negative\n",
        "f_score = f1_score(y_test, y_pred, average='weighted')\n",
        "print('F1-measure: ', f_score)\n",
        "conf_matrix = confusion_matrix(y_test, y_pred)\n",
        "true_pos = conf_matrix[1][1]\n",
        "false_pos = conf_matrix[0][1]\n",
        "print('True Positives: ', true_pos)\n",
        "print('False Positives: ', false_pos)"
      ],
      "execution_count": 71,
      "outputs": [
        {
          "output_type": "stream",
          "text": [
            "F1-measure:  0.14588782769543326\n",
            "True Positives:  326\n",
            "False Positives:  729\n"
          ],
          "name": "stdout"
        }
      ]
    },
    {
      "cell_type": "code",
      "metadata": {
        "id": "aJ0qSZ4cr1Eo"
      },
      "source": [
        ""
      ],
      "execution_count": null,
      "outputs": []
    }
  ]
}